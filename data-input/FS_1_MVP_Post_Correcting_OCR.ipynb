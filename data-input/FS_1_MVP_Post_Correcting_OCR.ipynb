{
 "cells": [
  {
   "cell_type": "markdown",
   "id": "a8e74402",
   "metadata": {},
   "source": [
    "# 🚀 Regelbasierte OCR-Nachbearbeitung"
   ]
  },
  {
   "cell_type": "markdown",
   "id": "27179bdd-dfc5-487c-92d0-ce06af3c8224",
   "metadata": {},
   "source": [
    "<div class=\"alert alert-block alert-info\"> <b> 🔔 Feinlernziel(e) dieses Kapitels</b></br>\n",
    "   Sie können die notwendigen Schritte zur Nachbereitung von OCR-Output aufzählen und die Qualität der Nachbereitung bewerten.</div>"
   ]
  },
  {
   "cell_type": "markdown",
   "id": "84869940-e178-4323-92d7-b3be6c0ef20b",
   "metadata": {},
   "source": [
    "Listen wir einige typische Fehler in unserem Korpus auf:\n",
    "\n",
    "* \"fie\" statt \"sie\" (Bild und Ergebnis später hinzufügen)\n",
    "* \"vm\", \"vnd\" statt \"um\", \"und\"\n",
    "* \"<\" statt \"ch\"\n",
    "\n",
    "Einige Dinge sind keine Fehler, sondern Merkmale der historischen Orthographie, die wir für die weitere Verarbeitung mit modernen NLP-Tools normalisieren möchten:\n",
    "\n",
    "* \"ſ\" statt \"s\"\n",
    "\n",
    "<!--\n",
    "Let's list some typical regular errors in our corpus:\n",
    "\n",
    "* \"fie\" statt \"sie\" (add pic & result later)\n",
    "* \"vm\", \"vnd\" statt \"um\", \"und\"\n",
    "* \"<\" statt \"ch\"\n",
    "\n",
    "Some things are not errors, but rather features of historical orthograpy which we would like to normalise for further processing with modern NLP tools:\n",
    "\n",
    "* \"ſ\" statt \"s\" -->"
   ]
  },
  {
   "cell_type": "markdown",
   "id": "f1a52f2e",
   "metadata": {},
   "source": [
    "In vielen Fällen können wir dies mit einigen regulären Such- und Ersetzungsmustern beheben (z.B. jedes `<`, das nicht von Leerzeichen umgeben ist, in `ch` umwandeln).\n",
    "\n",
    "Der Standardweg, solche Muster auf einem Computer auszudrücken und zu implementieren, sind reguläre Ausdrücke. Mehr über reguläre Ausdrücke erfahren Sie [hier](https://www.w3schools.com/python/python_regex.asp).\n",
    "\n",
    "<!-- In many cases we can fix it with some regular search-and replace patterns (e.g. take each `<` not surrounded by spaces and convert into `ch`)\n",
    "\n",
    "The standard way to express & implement such patterns on a computer would be regular expressions. You can learn more about regular expressions [here](https://www.w3schools.com/python/python_regex.asp). -->"
   ]
  },
  {
   "cell_type": "markdown",
   "id": "7b7187ca",
   "metadata": {},
   "source": [
    "## Implementierung von Regeln für typische Fehler mit regulären Ausdrücken"
   ]
  },
  {
   "cell_type": "code",
   "execution_count": null,
   "id": "cc13fd62",
   "metadata": {},
   "outputs": [],
   "source": [
    "import re"
   ]
  },
  {
   "cell_type": "code",
   "execution_count": null,
   "id": "24174e5b",
   "metadata": {},
   "outputs": [],
   "source": [
    "def post_correct_text(ocr_output):\n",
    "    cleaner_output = re.sub(r'(\\w)<(\\w)', '\\\\1ch\\\\2', ocr_output)\n",
    "    cleaner_output = re.sub(r'(\\w)5(\\w)', '\\\\1s\\\\2', cleaner_output)\n",
    "    cleaner_output = re.sub(r'\\bv(m|nd)\\b', 'u\\\\1', cleaner_output)\n",
    "    cleaner_output = re.sub(r'\\bfie\\b', 'sie', cleaner_output)\n",
    "    cleaner_output = cleaner_output.replace('ſ','s')\n",
    "    cleaner_output = cleaner_output.replace('\\n',' ')\n",
    "    return cleaner_output"
   ]
  },
  {
   "cell_type": "markdown",
   "id": "17fa9b58",
   "metadata": {},
   "source": [
    "## Anwendung der Regeln auf die OCR-Ergebnisse <!-- ## Applying rules to OCR results --> "
   ]
  },
  {
   "cell_type": "code",
   "execution_count": null,
   "id": "74f33fb0",
   "metadata": {},
   "outputs": [],
   "source": [
    "import pytesseract\n",
    "from PIL import Image\n",
    "from auxiliary.measure_ocr_quality import measure_ocr_quality"
   ]
  },
  {
   "cell_type": "markdown",
   "id": "fc4644ec",
   "metadata": {},
   "source": [
    "<img src=\"grippe.jpeg\" width=700>"
   ]
  },
  {
   "cell_type": "code",
   "execution_count": null,
   "id": "f0f9456e",
   "metadata": {},
   "outputs": [],
   "source": [
    "ocr_output = pytesseract.image_to_string(Image.open('grippe.jpeg'), lang='frk')"
   ]
  },
  {
   "cell_type": "code",
   "execution_count": null,
   "id": "50364dfd",
   "metadata": {},
   "outputs": [],
   "source": [
    "print(ocr_output)"
   ]
  },
  {
   "cell_type": "code",
   "execution_count": null,
   "id": "31d6e4f3",
   "metadata": {},
   "outputs": [],
   "source": [
    "ocr_output_corr = post_correct_text(ocr_output)"
   ]
  },
  {
   "cell_type": "markdown",
   "id": "aebb1b96",
   "metadata": {},
   "source": [
    "Lassen Sie uns sehen, wie sich das Ganze verändert hat: <!-- Let us see how the whole thing changed: --> "
   ]
  },
  {
   "cell_type": "code",
   "execution_count": null,
   "id": "7d6c8869",
   "metadata": {},
   "outputs": [],
   "source": [
    "print(ocr_output_corr)"
   ]
  },
  {
   "cell_type": "markdown",
   "id": "76411084",
   "metadata": {},
   "source": [
    "## Messung der Verbesserung"
   ]
  },
  {
   "cell_type": "markdown",
   "id": "52e9bc5b",
   "metadata": {},
   "source": [
    "Lassen Sie uns sehen, wie sich die regelbasierte Nachkorrektur auf die OCR-Qualitätsmetriken ausgewirkt hat\n",
    "<!-- Let us see how the post-correction affected the OCR quality metrics --> "
   ]
  },
  {
   "cell_type": "code",
   "execution_count": null,
   "id": "02141139",
   "metadata": {},
   "outputs": [],
   "source": [
    "ground_truth = 'Die Grippe wütet weiter. Zunahme der schweren Fälle in Berlin. Die Zahl der Grippefälle ist in den letzten Tagen auch in Groß-Berlin noch erheblich gestiegen. Die Warenhäuser und sonstigen großen Geschäfte, die Kriegs- und die privaten Betriebe klagen, daß übermäßig viele Angestellte sich haben krank melden müssen und auch bei der Post und bei der Straßenbahn ist der Prozentsatz der Grippekranken deutlich gestiegen.'"
   ]
  },
  {
   "cell_type": "markdown",
   "id": "daebdc9d",
   "metadata": {},
   "source": [
    "### Originales (unkorrigiertes) OCR-Ergebnis"
   ]
  },
  {
   "cell_type": "code",
   "execution_count": null,
   "id": "381a5a59",
   "metadata": {},
   "outputs": [],
   "source": [
    "precision, recall, f_score = measure_ocr_quality(ocr_output, ground_truth)"
   ]
  },
  {
   "cell_type": "code",
   "execution_count": null,
   "id": "6ec58587",
   "metadata": {},
   "outputs": [],
   "source": [
    "print(f'Precision: {round(precision, 4)}\\nRecall: {round(recall, 4)}\\nF1-score: {round(f_score, 4)}')"
   ]
  },
  {
   "cell_type": "markdown",
   "id": "8894d7d9",
   "metadata": {},
   "source": [
    "### Korrigiertes OCR-Ergebnis"
   ]
  },
  {
   "cell_type": "code",
   "execution_count": null,
   "id": "cffb4d38",
   "metadata": {},
   "outputs": [],
   "source": [
    "precision, recall, f_score = measure_ocr_quality(ocr_output_corr, ground_truth)"
   ]
  },
  {
   "cell_type": "code",
   "execution_count": null,
   "id": "c82ec01e",
   "metadata": {},
   "outputs": [],
   "source": [
    "print(f'Precision: {round(precision, 4)}\\nRecall: {round(recall, 4)}\\nF1-score: {round(f_score, 4)}')"
   ]
  },
  {
   "cell_type": "markdown",
   "id": "5bd8ed46",
   "metadata": {},
   "source": [
    "Also, unsere F-Measure hat sich etwas verbessert, gut! <!-- So, our F-measure increased a bit, good! -->"
   ]
  },
  {
   "cell_type": "markdown",
   "id": "cae6bd45",
   "metadata": {},
   "source": [
    "## (Advanced) Ausführung des regelbasierten OCR-Nachkorrekturverfahrens auf dem gesamten Korpus"
   ]
  },
  {
   "cell_type": "code",
   "execution_count": null,
   "id": "59623076",
   "metadata": {},
   "outputs": [],
   "source": [
    "from pathlib import Path\n",
    "from tqdm import tqdm"
   ]
  },
  {
   "cell_type": "code",
   "execution_count": null,
   "id": "c307db1e",
   "metadata": {
    "tags": [
     "skip-execution"
    ]
   },
   "outputs": [],
   "source": [
    "pathtxt = Path('../data/txt')\n",
    "\n",
    "for file in tqdm(pathtxt.iterdir()):\n",
    "    if file.suffix == '.txt':\n",
    "        text = file.read_text()\n",
    "        corrected = post_correct_text(text)\n",
    "        file.write_text(corrected)"
   ]
  }
 ],
 "metadata": {
  "celltoolbar": "Tags",
  "kernelspec": {
   "display_name": "Python 3 (ipykernel)",
   "language": "python",
   "name": "python3"
  },
  "language_info": {
   "codemirror_mode": {
    "name": "ipython",
    "version": 3
   },
   "file_extension": ".py",
   "mimetype": "text/x-python",
   "name": "python",
   "nbconvert_exporter": "python",
   "pygments_lexer": "ipython3",
   "version": "3.11.3"
  }
 },
 "nbformat": 4,
 "nbformat_minor": 5
}
