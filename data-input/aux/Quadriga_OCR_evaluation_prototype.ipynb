{
 "cells": [
  {
   "cell_type": "markdown",
   "id": "1d59fe07",
   "metadata": {},
   "source": [
    "# OCR evaluation prototype "
   ]
  },
  {
   "cell_type": "code",
   "execution_count": null,
   "id": "3af423bb",
   "metadata": {},
   "outputs": [],
   "source": [
    "#!pip install pytesseract\n",
    "#!pip install pillow"
   ]
  },
  {
   "cell_type": "code",
   "execution_count": 1,
   "id": "8a636708",
   "metadata": {},
   "outputs": [],
   "source": [
    "import pytesseract"
   ]
  },
  {
   "cell_type": "code",
   "execution_count": 2,
   "id": "273defc6",
   "metadata": {},
   "outputs": [],
   "source": [
    "from PIL import Image"
   ]
  },
  {
   "cell_type": "markdown",
   "id": "bf9efa76",
   "metadata": {},
   "source": [
    "### Evaluate OCR\n",
    "\n",
    "Sample image part for evaluation(source: [Deutsche Zeitung, Ausgaben am Montag, 23.12.1918](https://zefys.staatsbibliothek-berlin.de/kalender/auswahl/date/1918-12-23/30744015/)):\n",
    "![sample.jpg](sample.jpg)"
   ]
  },
  {
   "cell_type": "markdown",
   "id": "b73d817e",
   "metadata": {},
   "source": [
    "OCR it:"
   ]
  },
  {
   "cell_type": "code",
   "execution_count": 3,
   "id": "84c9fd39",
   "metadata": {},
   "outputs": [],
   "source": [
    "ocr_output = pytesseract.image_to_string(Image.open('sample.jpg'), lang='frk')"
   ]
  },
  {
   "cell_type": "code",
   "execution_count": 4,
   "id": "c5ca0449",
   "metadata": {},
   "outputs": [
    {
     "name": "stdout",
     "output_type": "stream",
     "text": [
      "Die Lage anfdemKohlenmarkte gibt zu “en ſhlimm-\n",
      "ſten Befürc<tungen Anlaß. Für Sachſen fehlten im Nov»mber\n",
      "30 000 Wagen zu je 10 Tonnen und für Tezembex wird mit no<\n",
      "größeren Ausfällen gere<net werden. E3 iſt mit einem völligen\n",
      "Stillſtand der Induſtrie innerhalb vierzehn Tagen zu red<hnen,\n",
      "wenn nicht eine erhebliche Steigerung der Belenſ<aften der Kot:en-\n",
      "bergwerke oder ihrer Zah! geiingt. Weiter ſteht eine weſentliche\n",
      "Erhöhung der Kohlenpreije bevor.\n",
      "\n"
     ]
    }
   ],
   "source": [
    "print(ocr_output)"
   ]
  },
  {
   "cell_type": "markdown",
   "id": "1328b4ad",
   "metadata": {},
   "source": [
    "### Manually post correct"
   ]
  },
  {
   "cell_type": "code",
   "execution_count": 5,
   "id": "55a68c90",
   "metadata": {},
   "outputs": [
    {
     "name": "stdout",
     "output_type": "stream",
     "text": [
      "Please insert corrected string: Die Lage an dem Kohlenmarkte gibt zu den ſchlimm- ſten Befürchtungen Anlaß. Für Sachſen fehlten im November 30 000 Wagen zu je 10 Tonnen und für Dezember wird mit noch größeren Ausfällen gerechnet werden. Es iſt mit einem völligen Stillſtand der Induſtrie innerhalb vierzehn Tagen zu rechnen, wenn nicht eine erhebliche Steigerung der Belegſchaften der Kohlen- bergwerke oder ihrer Zahl gelingt. Weiter ſteht eine weſentliche Erhöhung der Kohlenpreiſe bevor.\n"
     ]
    }
   ],
   "source": [
    "ground_truth = input('Please insert corrected string: ')"
   ]
  },
  {
   "cell_type": "code",
   "execution_count": 6,
   "id": "1c35c218",
   "metadata": {},
   "outputs": [
    {
     "name": "stdout",
     "output_type": "stream",
     "text": [
      "Die Lage an dem Kohlenmarkte gibt zu den ſchlimm- ſten Befürchtungen Anlaß. Für Sachſen fehlten im November 30 000 Wagen zu je 10 Tonnen und für Dezember wird mit noch größeren Ausfällen gerechnet werden. Es iſt mit einem völligen Stillſtand der Induſtrie innerhalb vierzehn Tagen zu rechnen, wenn nicht eine erhebliche Steigerung der Belegſchaften der Kohlen- bergwerke oder ihrer Zahl gelingt. Weiter ſteht eine weſentliche Erhöhung der Kohlenpreiſe bevor.\n"
     ]
    }
   ],
   "source": [
    "print(ground_truth)"
   ]
  },
  {
   "cell_type": "markdown",
   "id": "dc90f22d",
   "metadata": {},
   "source": [
    "### Measure OCR precision, recall and F-measure"
   ]
  },
  {
   "cell_type": "code",
   "execution_count": 7,
   "id": "064eddee",
   "metadata": {},
   "outputs": [],
   "source": [
    "import Levenshtein as lev"
   ]
  },
  {
   "cell_type": "code",
   "execution_count": 8,
   "id": "b306d511",
   "metadata": {},
   "outputs": [],
   "source": [
    "def measure_quality(ocr_output, ground_truth):\n",
    "    \"\"\"\n",
    "    Calculates precision, recall, and F1-score\n",
    "    using the Levenshtein distance to align text from OCR with the ground truth data.\n",
    "\n",
    "    :param ocr_output: A string containing the raw OCR results.\n",
    "    :param ground_truth: A string containing the verified ground truth text.\n",
    "    \"\"\"\n",
    "\n",
    "    matching_parts = lev.matching_blocks(lev.editops(ocr_output, ground_truth), ocr_output, ground_truth)\n",
    "    true_pos = len(''.join([ocr_output[x[0]:x[0]+x[2]] for x in matching_parts]))\n",
    "\n",
    "    precision = true_pos / len(ground_truth)\n",
    "    recall = true_pos / len(ocr_output)\n",
    "    f_score = 2 * ((precision * recall) / (precision + recall))\n",
    "\n",
    "    return precision, recall, f_score"
   ]
  },
  {
   "cell_type": "code",
   "execution_count": 9,
   "id": "03132c10",
   "metadata": {},
   "outputs": [],
   "source": [
    "precision, recall, f_score = measure_quality(ocr_output, ground_truth)"
   ]
  },
  {
   "cell_type": "code",
   "execution_count": 10,
   "id": "46857ba9",
   "metadata": {},
   "outputs": [
    {
     "name": "stdout",
     "output_type": "stream",
     "text": [
      "Precision: 0.9367\n",
      "Recall: 0.9429\n",
      "F1-score: 0.9398\n"
     ]
    }
   ],
   "source": [
    "print(f'Precision: {round(precision, 4)}\\nRecall: {round(recall, 4)}\\nF1-score: {round(f_score, 4)}')"
   ]
  },
  {
   "cell_type": "code",
   "execution_count": null,
   "id": "74682bdb",
   "metadata": {},
   "outputs": [],
   "source": []
  }
 ],
 "metadata": {
  "kernelspec": {
   "display_name": "Python 3 (ipykernel)",
   "language": "python",
   "name": "python3"
  },
  "language_info": {
   "codemirror_mode": {
    "name": "ipython",
    "version": 3
   },
   "file_extension": ".py",
   "mimetype": "text/x-python",
   "name": "python",
   "nbconvert_exporter": "python",
   "pygments_lexer": "ipython3",
   "version": "3.9.13"
  }
 },
 "nbformat": 4,
 "nbformat_minor": 5
}
