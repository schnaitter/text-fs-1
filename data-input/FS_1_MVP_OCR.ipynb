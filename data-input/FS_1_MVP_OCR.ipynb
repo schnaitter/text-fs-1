{
 "cells": [
  {
   "cell_type": "markdown",
   "id": "1d59fe07",
   "metadata": {},
   "source": [
    "# 🚀 OCR in Python mit PyTesseract "
   ]
  },
  {
   "cell_type": "markdown",
   "id": "a087375b-f886-4cf2-b32d-ed073d2e62cf",
   "metadata": {},
   "source": [
    "<div class=\"alert alert-block alert-info\"> <b> 🔔 Feinlernziel(e) dieses Kapitels</b></br>\n",
    "   Sie können die notwendigen Schritte zur Verarbeitung eines einseitigen und eines mehrseitigen PDFs zu einem Text aufzählen und das Ursprungs- sowie das Zielformat nennen und Unterschiede erklären.</div>"
   ]
  },
  {
   "cell_type": "markdown",
   "id": "ea9555ea-0c82-41ce-8abc-c1f2db01a6a9",
   "metadata": {},
   "source": [
    "## Kurze Einführung in Jupyter-Notebooks\n",
    "\n",
    "Was Sie im Moment sehen, ist ein **Jupyter-Notebook**. Jupyter ermöglicht es Ihnen, Python-Code in Ihrem Browser zu schreiben und auszuführen. Notebook-Zellen mit Code sehen so aus:"
   ]
  },
  {
   "cell_type": "code",
   "execution_count": null,
   "id": "f9fdd703",
   "metadata": {},
   "outputs": [],
   "source": [
    "print('Hallo Welt!')"
   ]
  },
  {
   "cell_type": "markdown",
   "id": "1b1aebf3",
   "metadata": {},
   "source": [
    "Um die Code-Zellen auszuführen, müssen Sie das Notebook entweder [lokal](https://jupyter.org/install) (mit lokaler Jupyter-Instanz) oder in der Cloud mit Binder oder [Colab](https://colab.research.google.com/github/dh-network/quadriga/blob/main/data-input/FS_1_MVP_OCR.ipynb) ausführen. Dadurch werden Code-Zellen ausführbar. Um **Code in der Zelle auszuführen**, treten Sie darauf und drücken Sie **Cmd/Strg + Enter** oder verwenden Sie die **'Play button'** links neben der Zelle.\n",
    "\n",
    "\n",
    "Eine weitere nützliche Tastenkombination ist **Umschalt+Enter**. Sie führt die Shell aus und geht zur nächsten über. Nützlich, wenn Sie durch viele Zellen klicken müssen. "
   ]
  },
  {
   "cell_type": "markdown",
   "id": "5a75a64d",
   "metadata": {},
   "source": [
    "#### Kommentare 📝 vs. Code ⚙️\n",
    "\n",
    "* Die Teile der Codezellen, die **mit `#`** beginnen, sind Kommentare **für Menschen**, um den Code zu erklären\n",
    "* Lokale Jupyter-Umgebung hebt Kommentare in <font color='#408080'>grün-blau</font> hervor\n",
    "* Colab hebt Kommentare in <font color='green'>grün</font> hervor\n",
    "* JupyterBook hebt Kommentare in <font color='#797129'>dunkelgelb</font> hervor\n",
    "* Kommentare sind keine Python-Befehle und werden **nicht ausgeführt**"
   ]
  },
  {
   "cell_type": "code",
   "execution_count": null,
   "id": "de2b6ce0",
   "metadata": {},
   "outputs": [],
   "source": [
    "# I am a comment, I do nothing, I'm just here for you to read\n",
    "print('I am a print function, part of Python code, I print whatever is in these brackets!')"
   ]
  },
  {
   "cell_type": "markdown",
   "id": "d3066c89",
   "metadata": {},
   "source": [
    "## OCR mit Python\n",
    "\n",
    "In diesem Notizbuch werden wir pyTesseract ausführen, um maschinenlesbaren Text zu erzeugen aus:\n",
    "* einem JPEG-Bild\n",
    "* einem mehrseitigen PDF\n",
    "* einem Korpus mehrseitiger PDFs\n",
    "\n",
    "<!--In this notebook, we will run pyTesseract to produce machine readable text from:\n",
    "* a JPEG image\n",
    "* a multi-paged PDF\n",
    "* a corpus of multi-page PDF-s-->"
   ]
  },
  {
   "cell_type": "markdown",
   "id": "2aa125c6",
   "metadata": {},
   "source": [
    "<details>\n",
    "  <summary><b>Informationen zum Ausführen des Notebooks – Zum Ausklappen klicken ⬇️</b></summary>\n",
    "  \n",
    "<b>Voraussetzungen zur Ausführung des Jupyter Notebooks</b>\n",
    "<ol>\n",
    "<li> Installieren der Bibliotheken </li>\n",
    "<li>2. Laden der Daten (z.B. über den Command `wget` (s.u.))</li>\n",
    "<li>3. Pfad zu den Daten setzen</li>\n",
    "</ol>\n",
    "Zum Testen: Ausführen der Zelle \"load libraries\" und der Sektion \"Einlesen des Texts\". </br>\n",
    "Alle Zellen, die mit 🚀 gekennzeichnet sind, werden nur bei der Ausführung des Noteboos in Colab / JupyterHub bzw. lokal ausgeführt. \n",
    "</details>"
   ]
  },
  {
   "cell_type": "markdown",
   "id": "184ca1e5",
   "metadata": {},
   "source": [
    "## Installationen und Importe <!--Importing tools-->"
   ]
  },
  {
   "cell_type": "code",
   "execution_count": null,
   "id": "c3006120",
   "metadata": {
    "tags": [
     "skip-execution",
     "hide-cell"
    ]
   },
   "outputs": [],
   "source": [
    "#  🚀 Install libraries  \n",
    "!sudo apt install tesseract-ocr\n",
    "!sudo apt install tesseract-ocr-frk\n",
    "!sudo apt install poppler-utils\n",
    "!pip install pytesseract pillow"
   ]
  },
  {
   "cell_type": "code",
   "execution_count": null,
   "id": "8a636708",
   "metadata": {
    "tags": [
     "hide-cell"
    ]
   },
   "outputs": [],
   "source": [
    "import pytesseract\n",
    "from PIL import Image\n",
    "from pathlib import Path\n",
    "from pdf2image import convert_from_path\n",
    "from tqdm import tqdm"
   ]
  },
  {
   "cell_type": "markdown",
   "id": "bffc7cb7",
   "metadata": {},
   "source": [
    "## Verarbeitung eines Bildes <!--Processing one image-->"
   ]
  },
  {
   "cell_type": "code",
   "execution_count": null,
   "id": "d65eca71",
   "metadata": {
    "tags": [
     "skip-execution",
     "hide-cell"
    ]
   },
   "outputs": [],
   "source": [
    "!wget https://raw.githubusercontent.com/dh-network/quadriga/refs/heads/main/data-input/grippe.jpeg"
   ]
  },
  {
   "cell_type": "markdown",
   "id": "7d785e48",
   "metadata": {},
   "source": [
    "<img src='grippe.jpeg' width=\"600\">\n",
    "\n",
    "So können wir **OCR auf dieses Bild** des Zeitungsartikels ('Die Grippe wütet weiter') durchführen: <!-- This is how we can **perform OCR on this image** of the ('*Die Grippe wütet weiter*') newspaper article: -->"
   ]
  },
  {
   "cell_type": "code",
   "execution_count": null,
   "id": "e2d9a421",
   "metadata": {},
   "outputs": [],
   "source": [
    "ocr_output = pytesseract.image_to_string(Image.open('grippe.jpeg'), lang='frk') \n",
    "print(ocr_output)"
   ]
  },
  {
   "cell_type": "markdown",
   "id": "36f170aa",
   "metadata": {},
   "source": [
    "## Verarbeitung eines (mehrseitigen) PDFs"
   ]
  },
  {
   "cell_type": "markdown",
   "id": "afb92e6f",
   "metadata": {},
   "source": [
    "Mit ein wenig mehr Python-Code können wir pytesseract auch verwenden, um gesamte **PDF-Dateien mit vielen Seiten** zu OCRen: <!-- With a bit more Python code, we can also use pytesseract to OCR entire **PDF files with many pages**: -->"
   ]
  },
  {
   "cell_type": "markdown",
   "id": "2bfab8ea",
   "metadata": {
    "tags": [
     "hide-cell"
    ]
   },
   "source": [
    "<details>\n",
    "  <summary><b>Informationen zum Ausführen des Notebooks – Zum Ausklappen klicken ⬇️</b></summary>\n",
    "Zuerst wird der Ordner angelegt, in dem die Textdateien gespeichert werden. Der Einfachheit halber wird die gleich Datenablagestruktur wie in dem <a href=\"https://github.com/dh-network/quadriga/tree/main\">GitHub Repository</a>, in dem die Daten gespeichert sind, vorausgesetzt. </br>\n",
    "Der Text wird aus GitHub heruntergeladen und in dem Ordner <i>../data/pdf/</i> abgespeichert. </br>\n",
    "Der Pfad kann in der Variable <i>sample_pdf_path</i> angepasst werden. Die einzulesenden Daten müssen die Endung `.pdf` haben. </br>\n",
    "</details>"
   ]
  },
  {
   "cell_type": "markdown",
   "id": "24aa7bf1",
   "metadata": {},
   "source": [
    "<details>\n",
    "  <summary><b>Was ist ein Dateipfad?</b> (klicken)</summary>\n",
    "\n",
    "Ein **Dateipfad** ist eine Zeichenkette, die deinem Programm sagt, wo eine Datei auf deinem Computer oder Server gespeichert ist. Er hilft dem Programm, Dateien zu finden und auf sie zuzugreifen, um sie zu lesen, zu schreiben oder zu bearbeiten.\n",
    "\n",
    "#### Arten von Dateipfaden:\n",
    "1. **Absoluter Dateipfad**:  \n",
    "   Ein absoluter Pfad gibt den vollständigen Speicherort einer Datei ausgehend vom Stammverzeichnis deines Systems an.\n",
    "   - Beispiel unter Windows:  \n",
    "     `C:\\Users\\JohnDoe\\Documents\\file.txt`\n",
    "   - Beispiel unter macOS/Linux:  \n",
    "     `/Users/JohnDoe/Documents/file.txt`\n",
    "     \n",
    "2. **Relativer Dateipfad**:  \n",
    "   Ein relativer Pfad zeigt dem Programm, wie es eine Datei basierend auf dem aktuellen Arbeitsverzeichnis (dem Ordner, in dem dein Skript ausgeführt wird) finden kann.\n",
    "   - Beispiel:  \n",
    "     `Documents/file.txt`  \n",
    "     (Dies sucht die Datei in einem Ordner namens `Documents` innerhalb des aktuellen Verzeichnisses).\n",
    "\n",
    "#### Pfadtrennzeichen:\n",
    "- Unter Windows verwenden Pfade Backslashes (`\\`):  \n",
    "  `C:\\folder\\file.txt`\n",
    "- Unter macOS/Linux verwenden Pfade Schrägstriche (`/`):  \n",
    "  `/folder/file.txt`\n",
    "\n",
    "#### Beispiel in Python:\n",
    "\n",
    "```\n",
    "# Absoluter Pfad\n",
    "file = open('C:/Users/JohnDoe/Documents/file.txt')\n",
    "    \n",
    "# Relativer Pfad\n",
    "file = open('Documents/file.txt')\n",
    "```\n",
    "\n",
    "Python bietet auch Tools, um Pfade so zu handhaben, dass sie auf jedem Betriebssystem funktionieren, wie die Module `os` und `pathlib`. Wir verwenden oben `pathlib`, damit dieses Notebook auf jedem Rechner funktioniert. Dadurch können wir Pfade im Unix-Stil schreiben.\n",
    "    \n",
    "</details>"
   ]
  },
  {
   "cell_type": "code",
   "execution_count": null,
   "id": "dd23c7cf",
   "metadata": {
    "tags": [
     "skip-execution",
     "hide-cell"
    ]
   },
   "outputs": [],
   "source": [
    "# 🚀 Create data directory path\n",
    "corpus_dir = Path(\"../data/pdf\")\n",
    "if not corpus_dir.exists():\n",
    "    corpus_dir.mkdir(parents=True)"
   ]
  },
  {
   "cell_type": "code",
   "execution_count": null,
   "id": "62203d04",
   "metadata": {
    "tags": [
     "hide-cell",
     "skip-execution"
    ]
   },
   "outputs": [],
   "source": [
    "# 🚀 Load the txt file from GitHub \n",
    "! wget https://raw.githubusercontent.com/dh-network/quadriga/refs/heads/main/data/pdf/SNP27112366-19181224-0-0-0-0.pdf\n",
    "\n",
    "# move the file to the data directory\n",
    "! mv SNP27112366-19181224-0-0-0-0.pdf ../data/pdf"
   ]
  },
  {
   "cell_type": "code",
   "execution_count": null,
   "id": "74682bdb",
   "metadata": {},
   "outputs": [],
   "source": [
    "# set the path to file to be processed\n",
    "sample_pdf_path = Path(\"../data/pdf/SNP27112366-19181224-0-0-0-0.pdf\")"
   ]
  },
  {
   "cell_type": "code",
   "execution_count": null,
   "id": "9259bc78",
   "metadata": {
    "tags": [
     "skip-execution"
    ]
   },
   "outputs": [],
   "source": [
    "# this code here reads an entire PDF with a newspaper issue \n",
    "# and performs OCR page by page\n",
    "# it will take a couple of minutes to run\n",
    "recognized_pages = []\n",
    "converted_pdf = tqdm(convert_from_path(sample_pdf_path, use_cropbox=True))\n",
    "for image in converted_pdf:\n",
    "    recognized = pytesseract.image_to_string(image, \n",
    "                                             lang='frk') \n",
    "    #print(recognized)\n",
    "    recognized_pages.append(recognized)"
   ]
  },
  {
   "cell_type": "markdown",
   "id": "11a791ca",
   "metadata": {},
   "source": [
    "Schauen wir uns die erste Seite an: <!-- Let's look at the first page:-->"
   ]
  },
  {
   "cell_type": "code",
   "execution_count": null,
   "id": "28b79b0c",
   "metadata": {
    "tags": [
     "skip-execution"
    ]
   },
   "outputs": [],
   "source": [
    "print(recognized_pages[0])"
   ]
  },
  {
   "cell_type": "markdown",
   "id": "0ecd1035",
   "metadata": {
    "tags": [
     "skip-execution"
    ]
   },
   "source": [
    "Letzte Seite: <!-- Last page: --> "
   ]
  },
  {
   "cell_type": "code",
   "execution_count": null,
   "id": "a33cb97c",
   "metadata": {
    "tags": [
     "skip-execution"
    ]
   },
   "outputs": [],
   "source": [
    "print(recognized_pages[-1])"
   ]
  },
  {
   "cell_type": "markdown",
   "id": "66a1436f",
   "metadata": {},
   "source": [
    "Keines dieser Ergebnisse sieht besonders gut aus (hauptsächlich aufgrund der Scan-Qualität und allgemeiner Herausforderungen bei der Arbeit mit alten Zeitungen). In den nächsten Abschnitten werden wir lernen, wie man\n",
    "* a) die OCR-Qualität misst\n",
    "* b) die Qualität in der OCR-Nachkorrekturphase verbessert\n",
    "\n",
    "<!-- None of these results look very good (mostly due to scan quality and general challenges of working with old newspapers). In the next parts we will learn how to \n",
    "* a) measure the OCR quality\n",
    "* b) improve the quality at the OCR postcorrection stage -->"
   ]
  },
  {
   "cell_type": "markdown",
   "id": "daaee786",
   "metadata": {},
   "source": [
    "Um die OCR-Funktion auf einer anderen PDF-Datei auszuführen, müssen Sie in der obigen Zeile einen Dateipfad dazu angeben: `sample_pdf_path = Path('/path/to/your.pdf')`. "
   ]
  },
  {
   "cell_type": "markdown",
   "id": "51c60c71",
   "metadata": {},
   "source": [
    "## (Advanced) Verarbeitung des gesamten Korpus von PDFs mit derselben OCR-Engine <!-- (Advanced) Processing the whole corpus of PDF-s with the same OCR engine -->"
   ]
  },
  {
   "cell_type": "markdown",
   "id": "ad8d5051",
   "metadata": {
    "tags": [
     "skip-execution"
    ]
   },
   "source": [
    "Der untenstehende Code verarbeitet alle Dateien im Ordner `'../data/pdf'`, die die Endung '.pdf' haben, und speichert die Ergebnisse dann im Ordner `'../data/txt'` (die Dateinamen bleiben gleich, aber mit der Endung '.txt' anstelle von '.pdf'). **WARNUNG**: Bei einer großen Anzahl (>5) von PDFs wird dies viel Zeit in Anspruch nehmen.\n",
    "\n",
    "<!-- The code below will process all the files in folder `'../data/pdf'` which have '.pdf' as extension, and then put the results into the `'../data/txt'` (the filenames will be the same but with '.txt' extension instead of '.pdf'). **WARNING**: For a large (>5) number of PDF-s this will take a long time. -->"
   ]
  },
  {
   "cell_type": "code",
   "execution_count": null,
   "id": "b8a18acd",
   "metadata": {
    "tags": [
     "skip-execution",
     "hide-cell"
    ]
   },
   "outputs": [],
   "source": [
    "# 🚀 Create txt directory path\n",
    "corpus_dir = Path(\"../data/txt\")\n",
    "if not corpus_dir.exists():\n",
    "    corpus_dir.mkdir(parents=True)"
   ]
  },
  {
   "cell_type": "code",
   "execution_count": null,
   "id": "91568303",
   "metadata": {
    "tags": [
     "skip-execution"
    ]
   },
   "outputs": [],
   "source": [
    "pathpdf = Path('../data/pdf')\n",
    "pathtxt = Path('../data/txt')"
   ]
  },
  {
   "cell_type": "code",
   "execution_count": null,
   "id": "a5a69f12",
   "metadata": {
    "tags": [
     "skip-execution"
    ]
   },
   "outputs": [],
   "source": [
    "for filename in tqdm(pathpdf.iterdir()):\n",
    "    if filename.suffix == '.pdf':\n",
    "        converted_pdf = convert_from_path(filename, use_cropbox=True)\n",
    "        output_path = pathtxt / filename.stem \n",
    "        output_path = output_path.with_suffix('.txt')\n",
    "        with output_path.open('w') as output_txt:\n",
    "            for image in converted_pdf:\n",
    "                recognized = pytesseract.image_to_string(image, \n",
    "                                                         lang='frk') \n",
    "                output_txt.write(recognized)"
   ]
  }
 ],
 "metadata": {
  "celltoolbar": "Tags",
  "kernelspec": {
   "display_name": "Python 3 (ipykernel)",
   "language": "python",
   "name": "python3"
  },
  "language_info": {
   "codemirror_mode": {
    "name": "ipython",
    "version": 3
   },
   "file_extension": ".py",
   "mimetype": "text/x-python",
   "name": "python",
   "nbconvert_exporter": "python",
   "pygments_lexer": "ipython3",
   "version": "3.11.3"
  }
 },
 "nbformat": 4,
 "nbformat_minor": 5
}
