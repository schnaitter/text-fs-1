{
 "cells": [
  {
   "cell_type": "markdown",
   "id": "25929f3c",
   "metadata": {},
   "source": [
    "# 🚀 Messung der OCR-Qualität in Python"
   ]
  },
  {
   "cell_type": "markdown",
   "id": "df376d93-21a0-4612-8e65-dd728f78e63b",
   "metadata": {},
   "source": [
    "<div class=\"alert alert-block alert-info\"> <b> 🔔 Feinlernziel(e) dieses Kapitels</b></br>\n",
    "   Sie können die Schritte zur Qualitätsmessung eines OCR-Outputs aufzählen und die Qualitätsmaße interpretieren.</div>"
   ]
  },
  {
   "cell_type": "markdown",
   "id": "0c3dbbe9-4881-41bb-8286-c8cbefabd644",
   "metadata": {},
   "source": [
    "In diesem Notebook bewerten wir die OCR-Qualität. "
   ]
  },
  {
   "cell_type": "markdown",
   "id": "3bdc9c3e",
   "metadata": {},
   "source": [
    "## Installationen und Importe"
   ]
  },
  {
   "cell_type": "code",
   "execution_count": null,
   "id": "816500de",
   "metadata": {
    "tags": [
     "hide-cell",
     "skip-execution"
    ]
   },
   "outputs": [],
   "source": [
    "# 🚀 Install libraries  \n",
    "!sudo apt install tesseract-ocr\n",
    "!sudo apt install tesseract-ocr-frk\n",
    "!sudo apt install poppler-utils\n",
    "!pip install pytesseract pillow Levenshtein"
   ]
  },
  {
   "cell_type": "code",
   "execution_count": null,
   "id": "8a636708",
   "metadata": {
    "tags": [
     "hide-cell"
    ]
   },
   "outputs": [],
   "source": [
    "import pytesseract\n",
    "from PIL import Image\n",
    "from pathlib import Path\n",
    "\n",
    "## for interactivity in jupyter books\n",
    "from bokeh.io import output_notebook, show\n",
    "from bokeh.layouts import column\n",
    "from bokeh.models import CustomJS, TextInput"
   ]
  },
  {
   "cell_type": "markdown",
   "id": "c6813ff3",
   "metadata": {},
   "source": [
    "## Durchführen von OCR"
   ]
  },
  {
   "cell_type": "markdown",
   "id": "bf9efa76",
   "metadata": {},
   "source": [
    "Wir werden denselben Beispielartikel zur Bewertung verwenden:\n",
    "<!-- In this notebook we evaluate OCR quality. We'll use the same sample article for evaluation: -->\n",
    "\n",
    "![grippe.png](grippe.png)"
   ]
  },
  {
   "cell_type": "code",
   "execution_count": null,
   "id": "519e58d4",
   "metadata": {
    "tags": [
     "skip-execution",
     "hide-cell"
    ]
   },
   "outputs": [],
   "source": [
    "# 🚀 get the image to process in Colab\n",
    "!wget https://raw.githubusercontent.com/dh-network/quadriga/refs/heads/main/data-input/grippe.jpeg"
   ]
  },
  {
   "cell_type": "markdown",
   "id": "b73d817e",
   "metadata": {},
   "source": [
    "Zuerst führen wir die OCR durch: <!-- Let us OCR it first: -->"
   ]
  },
  {
   "cell_type": "code",
   "execution_count": null,
   "id": "84c9fd39",
   "metadata": {},
   "outputs": [],
   "source": [
    "ocr_output = pytesseract.image_to_string(Image.open('grippe.jpeg'), \n",
    "                                         lang='frk') # Wir verwenden das Fraktur-OCR-Modell"
   ]
  },
  {
   "cell_type": "code",
   "execution_count": null,
   "id": "c5ca0449",
   "metadata": {},
   "outputs": [],
   "source": [
    "print(ocr_output)"
   ]
  },
  {
   "cell_type": "markdown",
   "id": "1328b4ad",
   "metadata": {},
   "source": [
    "### Manuell die 'Ground Truth' zur Bewertung erstellen <!-- ### Manually create  the 'ground truth' to evaluate against -->"
   ]
  },
  {
   "cell_type": "code",
   "execution_count": null,
   "id": "55a68c90",
   "metadata": {
    "tags": [
     "hide-cell"
    ]
   },
   "outputs": [],
   "source": [
    "output_notebook()\n",
    "\n",
    "capture_ground_truth = TextInput(value=\"\"\"Die Grippe wütet weiter. Zunahme der schweren Fälle in Berlin. Die Zahl der Grippefälle ist in den letzten Tagen auch in Groß-Berlin noch erheblich gestiegen. Die Warenhäuser und sonstigen großen Geschäfte, die Kriegs- und die privaten Betriebe klagen, daß übermäßig viele Angestellte sich haben krank melden müssen und auch bei der Post und bei der Straßenbahn ist der Prozentsatz der Grippekranken deutlich gestiegen.\"\"\", \n",
    "                                 title=\"Please insert corrected string: \") \n",
    "\n",
    "ground_truth = capture_ground_truth.value.strip()\n",
    "\n",
    "rewrite_var_after_input = CustomJS(args=dict(text_input=capture_ground_truth), code=\"\"\"\n",
    "    var word = text_input.value.trim();\n",
    "    console.log('Input value:', word);\n",
    "    function sendToPython(){\n",
    "    var kernel = IPython.notebook.kernel;\n",
    "    kernel.execute(\"ground_truth = '\" + word + \"'\");\n",
    "    }\n",
    "    sendToPython();\n",
    "\"\"\")\n",
    "\n",
    "\n",
    "\n",
    "capture_ground_truth.js_on_change('value', rewrite_var_after_input)"
   ]
  },
  {
   "cell_type": "code",
   "execution_count": null,
   "id": "60cb0a73",
   "metadata": {},
   "outputs": [],
   "source": [
    "# Layout and display\n",
    "layout = column(capture_ground_truth)\n",
    "\n",
    "show(layout)"
   ]
  },
  {
   "cell_type": "code",
   "execution_count": null,
   "id": "1c35c218",
   "metadata": {},
   "outputs": [],
   "source": [
    "print(ground_truth)"
   ]
  },
  {
   "cell_type": "markdown",
   "id": "8ba10b32",
   "metadata": {},
   "source": [
    "## Berechnung von Precision, Recall und F1-Measure <!-- ### Calculate precision, recall, and F1-measure -->"
   ]
  },
  {
   "cell_type": "code",
   "execution_count": null,
   "id": "aac648a2",
   "metadata": {
    "tags": [
     "hide-cell",
     "skip-execution"
    ]
   },
   "outputs": [],
   "source": [
    "# 🚀 create folder and get the auxiliary python script to run in Colab\n",
    "aux_dir = Path(\"auxiliary\")\n",
    "if not aux_dir.exists():\n",
    "    aux_dir.mkdir(parents=True)"
   ]
  },
  {
   "cell_type": "code",
   "execution_count": null,
   "id": "57ce82ab",
   "metadata": {
    "tags": [
     "hide-cell",
     "skip-execution"
    ]
   },
   "outputs": [],
   "source": [
    "# 🚀 create folder and get the auxiliary python script to run in Colab\n",
    "!wget https://raw.githubusercontent.com/dh-network/quadriga/refs/heads/main/data-input/auxiliary/measure_ocr_quality.py\n",
    "!mv measure_ocr_quality.py auxiliary/"
   ]
  },
  {
   "cell_type": "code",
   "execution_count": null,
   "id": "84d2dc4a",
   "metadata": {},
   "outputs": [],
   "source": [
    "from auxiliary.measure_ocr_quality import measure_ocr_quality"
   ]
  },
  {
   "cell_type": "code",
   "execution_count": null,
   "id": "03132c10",
   "metadata": {},
   "outputs": [],
   "source": [
    "precision, recall, f_score = measure_ocr_quality(ocr_output, ground_truth)"
   ]
  },
  {
   "cell_type": "code",
   "execution_count": null,
   "id": "46857ba9",
   "metadata": {},
   "outputs": [],
   "source": [
    "print(f'Precision: {round(precision, 4)}\\nRecall: {round(recall, 4)}\\nF1-score: {round(f_score, 4)}')"
   ]
  },
  {
   "cell_type": "code",
   "execution_count": null,
   "id": "4c5b3c47",
   "metadata": {},
   "outputs": [],
   "source": []
  }
 ],
 "metadata": {
  "celltoolbar": "Tags",
  "kernelspec": {
   "display_name": "Python 3 (ipykernel)",
   "language": "python",
   "name": "python3"
  },
  "language_info": {
   "codemirror_mode": {
    "name": "ipython",
    "version": 3
   },
   "file_extension": ".py",
   "mimetype": "text/x-python",
   "name": "python",
   "nbconvert_exporter": "python",
   "pygments_lexer": "ipython3",
   "version": "3.11.3"
  }
 },
 "nbformat": 4,
 "nbformat_minor": 5
}
